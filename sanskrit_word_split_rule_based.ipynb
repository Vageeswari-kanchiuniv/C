{
  "nbformat": 4,
  "nbformat_minor": 0,
  "metadata": {
    "colab": {
      "provenance": [],
      "authorship_tag": "ABX9TyPhM5ro6zHGn5VI9fQHEZY8",
      "include_colab_link": true
    },
    "kernelspec": {
      "name": "python3",
      "display_name": "Python 3"
    },
    "language_info": {
      "name": "python"
    }
  },
  "cells": [
    {
      "cell_type": "markdown",
      "metadata": {
        "id": "view-in-github",
        "colab_type": "text"
      },
      "source": [
        "<a href=\"https://colab.research.google.com/github/Vageeswari-kanchiuniv/C/blob/main/sanskrit_word_split_rule_based.ipynb\" target=\"_parent\"><img src=\"https://colab.research.google.com/assets/colab-badge.svg\" alt=\"Open In Colab\"/></a>"
      ]
    },
    {
      "cell_type": "markdown",
      "source": [
        "**🔹 Python Code Example**"
      ],
      "metadata": {
        "id": "AfN9x_fEHRcK"
      }
    },
    {
      "cell_type": "code",
      "execution_count": 1,
      "metadata": {
        "colab": {
          "base_uri": "https://localhost:8080/"
        },
        "id": "LfAbHeINt4EN",
        "outputId": "f020b4a2-0fd7-460e-a94e-f817fe654b87"
      },
      "outputs": [
        {
          "output_type": "stream",
          "name": "stdout",
          "text": [
            "रामोऽस्ति  →  रामः + अस्ति\n",
            "गुरुपदेशात्  →  गुरुपदेशात्\n",
            "शिवोऽहम्  →  शिवः + अहम्\n",
            "विद्याऽर्जनम्  →  विद्याऽर्जनम्\n",
            "सत्यंवद  →  सत्यं + वद\n"
          ]
        }
      ],
      "source": [
        "import re\n",
        "\n",
        "# Basic Sandhi rules for splitting\n",
        "sandhi_rules = [\n",
        "    # Rule: 'o' before apostrophe (ऽ) often from \"ः + अ\"\n",
        "    (r\"ोऽ\", \"ः + अ\"),\n",
        "    # Rule: 'ो' at end can be \"ः\"\n",
        "    (r\"ो \", \"ः \"),\n",
        "    # Rule: 'ः' + vowel\n",
        "    (r\"ः([अआइईउऊएऐओऔ])\", r\"ः + \\1\"),\n",
        "    # Rule: \"ार्\" before \"ज\" could be \"ा + अर्ज\"\n",
        "    (r\"ार्ज\", \"ा + अर्ज\"),\n",
        "    # Rule: consonant cluster simplification (simple demo)\n",
        "    (r\"वद\", \" + वद\"),\n",
        "]\n",
        "\n",
        "def sandhi_split(word):\n",
        "    result = word\n",
        "    for pattern, repl in sandhi_rules:\n",
        "        result = re.sub(pattern, repl, result)\n",
        "    return result\n",
        "\n",
        "# Examples\n",
        "examples = [\n",
        "    \"रामोऽस्ति\",   # रामः + अस्ति\n",
        "    \"गुरुपदेशात्\", # गुरु: + उपदेशात्\n",
        "    \"शिवोऽहम्\",   # शिवः + अहम्\n",
        "    \"विद्याऽर्जनम्\", # विद्या + अर्जनम्\n",
        "    \"सत्यंवद\"     # सत्यं + वद\n",
        "]\n",
        "\n",
        "for w in examples:\n",
        "    print(f\"{w}  →  {sandhi_split(w)}\")\n"
      ]
    },
    {
      "cell_type": "markdown",
      "source": [
        "**Python Code – Sandhi-Vicheda Engine**"
      ],
      "metadata": {
        "id": "NUsNqbeOGMQ7"
      }
    },
    {
      "cell_type": "code",
      "source": [
        "import re\n",
        "\n",
        "# ---------------------------\n",
        "# Simple Sanskrit Dictionary (expand as needed)\n",
        "# ---------------------------\n",
        "dictionary = {\n",
        "    \"रामः\", \"अस्ति\", \"गुरुः\", \"उपदेशात्\", \"शिवः\", \"अहम्\",\n",
        "    \"विद्या\", \"अर्जनम्\", \"सत्यं\", \"वद\", \"लोकः\", \"जनः\"\n",
        "}\n",
        "\n",
        "# ---------------------------\n",
        "# Sandhi Rules (Reversal Patterns)\n",
        "# Each rule is (pattern, replacement, description)\n",
        "# ---------------------------\n",
        "sandhi_rules = [\n",
        "    # Visarga Sandhi\n",
        "    (r\"ोऽ\", \"ः + अ\", \"Visarga + vowel (oऽ = ः + अ)\"),\n",
        "    (r\"ो \", \"ः \", \"Visarga at end\"),\n",
        "    (r\"ः([अआइईउऊएऐओऔ])\", r\"ः + \\1\", \"Visarga + vowel\"),\n",
        "\n",
        "    # Vowel Sandhi\n",
        "    (r\"आअ\", \"आ + अ\", \"Long A before A\"),\n",
        "    (r\"एअ\", \"ए + अ\", \"E before A\"),\n",
        "    (r\"ओअ\", \"ओ + अ\", \"O before A\"),\n",
        "    (r\"ाऽ\", \"ा + अ\", \"ā + a (vidyāऽrjanam)\"),\n",
        "\n",
        "    # Consonant Sandhi (basic demo)\n",
        "    (r\"ंव\", \"ं + व\", \"Anusvāra before v\"),\n",
        "    (r\"ंय\", \"ं + य\", \"Anusvāra before y\"),\n",
        "    (r\"ंर\", \"ं + र\", \"Anusvāra before r\"),\n",
        "]\n",
        "\n",
        "# ---------------------------\n",
        "# Apply Sandhi Rules\n",
        "# ---------------------------\n",
        "def apply_rules(word):\n",
        "    \"\"\"Generate possible splits by applying sandhi rules\"\"\"\n",
        "    splits = []\n",
        "    for pattern, repl, desc in sandhi_rules:\n",
        "        if re.search(pattern, word):\n",
        "            candidate = re.sub(pattern, repl, word)\n",
        "            splits.append((candidate, desc))\n",
        "    return splits\n",
        "\n",
        "# ---------------------------\n",
        "# Validate against dictionary\n",
        "# ---------------------------\n",
        "def validate_split(split_text):\n",
        "    \"\"\"Check if split words exist in dictionary\"\"\"\n",
        "    words = [w.strip() for w in split_text.split(\"+\")]\n",
        "    return all(word in dictionary for word in words)\n",
        "\n",
        "# ---------------------------\n",
        "# Main Sandhi-Vicheda function\n",
        "# ---------------------------\n",
        "def sandhi_vicheda(word):\n",
        "    results = []\n",
        "    candidates = apply_rules(word)\n",
        "\n",
        "    for cand, rule in candidates:\n",
        "        if validate_split(cand):\n",
        "            results.append((cand, rule))\n",
        "\n",
        "    # If nothing validated, return raw candidates\n",
        "    if not results:\n",
        "        return [(cand, rule) for cand, rule in candidates]\n",
        "\n",
        "    return results\n",
        "\n",
        "# ---------------------------\n",
        "# Test Examples\n",
        "# ---------------------------\n",
        "examples = [\n",
        "    \"रामोऽस्ति\",    # रामः + अस्ति\n",
        "    \"गुरुपदेशात्\", # गुरुः + उपदेशात्\n",
        "    \"शिवोऽहम्\",    # शिवः + अहम्\n",
        "    \"विद्याऽर्जनम्\", # विद्या + अर्जनम्\n",
        "    \"सत्यंवद\"     # सत्यं + वद\n",
        "]\n",
        "\n",
        "for word in examples:\n",
        "    print(f\"\\nWord: {word}\")\n",
        "    results = sandhi_vicheda(word)\n",
        "    if results:\n",
        "        for res, rule in results:\n",
        "            print(f\"  → {res}   (Rule: {rule})\")\n",
        "    else:\n",
        "        print(\"  → No split found\")\n"
      ],
      "metadata": {
        "colab": {
          "base_uri": "https://localhost:8080/"
        },
        "id": "-9vaj61d8CD3",
        "outputId": "b50b9731-e2af-4537-d0b5-d237810f317d"
      },
      "execution_count": 1,
      "outputs": [
        {
          "output_type": "stream",
          "name": "stdout",
          "text": [
            "\n",
            "Word: रामोऽस्ति\n",
            "  → रामः + अस्ति   (Rule: Visarga + vowel (oऽ = ः + अ))\n",
            "\n",
            "Word: गुरुपदेशात्\n",
            "  → No split found\n",
            "\n",
            "Word: शिवोऽहम्\n",
            "  → शिवः + अहम्   (Rule: Visarga + vowel (oऽ = ः + अ))\n",
            "\n",
            "Word: विद्याऽर्जनम्\n",
            "  → विद्या + अर्जनम्   (Rule: ā + a (vidyāऽrjanam))\n",
            "\n",
            "Word: सत्यंवद\n",
            "  → सत्यं + वद   (Rule: Anusvāra before v)\n"
          ]
        }
      ]
    },
    {
      "cell_type": "markdown",
      "source": [
        "**🔹 Recursive Sandhi-Vicheda Engine (Python)**"
      ],
      "metadata": {
        "id": "NLcSBnqz9d7A"
      }
    },
    {
      "cell_type": "code",
      "source": [
        "import re\n",
        "\n",
        "# ---------------------------\n",
        "# Simple Sanskrit Dictionary (expand as needed)\n",
        "# ---------------------------\n",
        "dictionary = {\n",
        "    \"रामः\", \"अस्ति\", \"गुरुः\", \"उपदेशात्\", \"उपदेशः\", \"शिवः\", \"अहम्\",\n",
        "    \"विद्या\", \"अर्जनम्\", \"सत्यं\", \"वद\", \"लोकः\", \"जनः\", \"ज्ञानम्\"\n",
        "}\n",
        "\n",
        "# ---------------------------\n",
        "# Sandhi Rules (Reversal Patterns)\n",
        "# ---------------------------\n",
        "sandhi_rules = [\n",
        "    # Visarga Sandhi\n",
        "    (r\"ोऽ\", \"ः + अ\"),\n",
        "    (r\"ो\", \"ः\"),\n",
        "    (r\"ः([अआइईउऊएऐओऔ])\", r\"ः + \\1\"),\n",
        "\n",
        "    # Vowel Sandhi\n",
        "    (r\"ाऽ\", \"ा + अ\"),\n",
        "    (r\"आअ\", \"आ + अ\"),\n",
        "    (r\"एअ\", \"ए + अ\"),\n",
        "    (r\"ओअ\", \"ओ + अ\"),\n",
        "\n",
        "    # Anusvara Sandhi\n",
        "    (r\"ं([वयरल])\", r\"ं + \\1\"),\n",
        "]\n",
        "\n",
        "# ---------------------------\n",
        "# Recursive splitter\n",
        "# ---------------------------\n",
        "def recursive_split(word, depth=0):\n",
        "    \"\"\"Try to recursively split a word into dictionary words.\"\"\"\n",
        "    results = []\n",
        "\n",
        "    # Base case: if the whole word is in the dictionary\n",
        "    if word in dictionary:\n",
        "        return [[word]]\n",
        "\n",
        "    # Try applying all sandhi rules\n",
        "    for pattern, repl in sandhi_rules:\n",
        "        if re.search(pattern, word):\n",
        "            candidate = re.sub(pattern, repl, word, count=1)\n",
        "\n",
        "            # Only split if we actually got a \"+\" in the result\n",
        "            if \"+\" not in candidate:\n",
        "                continue\n",
        "\n",
        "            parts = [w.strip() for w in candidate.split(\"+\", 1)]\n",
        "            if len(parts) != 2:\n",
        "                continue\n",
        "\n",
        "            left_options = recursive_split(parts[0], depth+1)\n",
        "            right_options = recursive_split(parts[1], depth+1)\n",
        "\n",
        "            for left in left_options:\n",
        "                for right in right_options:\n",
        "                    results.append(left + right)\n",
        "\n",
        "    return results\n",
        "\n",
        "# ---------------------------\n",
        "# Wrapper function\n",
        "# ---------------------------\n",
        "def sandhi_vicheda(word):\n",
        "    splits = recursive_split(word)\n",
        "    # Remove duplicates\n",
        "    unique_splits = []\n",
        "    for s in splits:\n",
        "        if s not in unique_splits:\n",
        "            unique_splits.append(s)\n",
        "    return unique_splits\n",
        "\n",
        "# ---------------------------\n",
        "# Test Examples\n",
        "# ---------------------------\n",
        "examples = [\n",
        "    \"रामोऽस्ति\",      # रामः + अस्ति\n",
        "    \"गुरुपदेशात्\",   # गुरुः + उपदेशात्\n",
        "    \"शिवोऽहम्\",      # शिवः + अहम्\n",
        "    \"विद्याऽर्जनम्\", # विद्या + अर्जनम्\n",
        "    \"सत्यंवद\",       # सत्यं + वद\n",
        "    \"लोकजनः\"        # लोकः + जनः\n",
        "]\n",
        "\n",
        "for word in examples:\n",
        "    print(f\"\\nWord: {word}\")\n",
        "    results = sandhi_vicheda(word)\n",
        "    if results:\n",
        "        for r in results:\n",
        "            print(\"  →\", \" + \".join(r))\n",
        "    else:\n",
        "        print(\"  → No split found\")\n"
      ],
      "metadata": {
        "colab": {
          "base_uri": "https://localhost:8080/"
        },
        "id": "zFfJHxmn_RAG",
        "outputId": "e4e008c1-35e6-454c-88ba-5028a68f3ec3"
      },
      "execution_count": 4,
      "outputs": [
        {
          "output_type": "stream",
          "name": "stdout",
          "text": [
            "\n",
            "Word: रामोऽस्ति\n",
            "  → रामः + अस्ति\n",
            "\n",
            "Word: गुरुपदेशात्\n",
            "  → No split found\n",
            "\n",
            "Word: शिवोऽहम्\n",
            "  → शिवः + अहम्\n",
            "\n",
            "Word: विद्याऽर्जनम्\n",
            "  → विद्या + अर्जनम्\n",
            "\n",
            "Word: सत्यंवद\n",
            "  → सत्यं + वद\n",
            "\n",
            "Word: लोकजनः\n",
            "  → No split found\n"
          ]
        }
      ]
    }
  ]
}