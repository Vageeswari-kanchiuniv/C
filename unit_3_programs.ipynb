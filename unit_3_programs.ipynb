{
  "nbformat": 4,
  "nbformat_minor": 0,
  "metadata": {
    "colab": {
      "provenance": [],
      "authorship_tag": "ABX9TyPuNuxrlY7eHcdG/c0xWYon",
      "include_colab_link": true
    },
    "kernelspec": {
      "name": "python3",
      "display_name": "Python 3"
    },
    "language_info": {
      "name": "python"
    }
  },
  "cells": [
    {
      "cell_type": "markdown",
      "metadata": {
        "id": "view-in-github",
        "colab_type": "text"
      },
      "source": [
        "<a href=\"https://colab.research.google.com/github/Vageeswari-kanchiuniv/C/blob/main/unit_3_programs.ipynb\" target=\"_parent\"><img src=\"https://colab.research.google.com/assets/colab-badge.svg\" alt=\"Open In Colab\"/></a>"
      ]
    },
    {
      "cell_type": "markdown",
      "source": [
        "#NumPy Basics\n"
      ],
      "metadata": {
        "id": "bBjuNHPF4NDg"
      }
    },
    {
      "cell_type": "code",
      "execution_count": 1,
      "metadata": {
        "colab": {
          "base_uri": "https://localhost:8080/"
        },
        "id": "8FZ-KzEjw1Vi",
        "outputId": "f3eae1f5-8dd5-48e2-9262-c953d91a9f2c"
      },
      "outputs": [
        {
          "output_type": "stream",
          "name": "stdout",
          "text": [
            "Array: [1 2 3 4 5]\n",
            "Mean: 3.0\n",
            "Standard Deviation: 1.4142135623730951\n",
            "Reshape: [[1]\n",
            " [2]\n",
            " [3]\n",
            " [4]\n",
            " [5]]\n"
          ]
        }
      ],
      "source": [
        "import numpy as np\n",
        "\n",
        "# Create array\n",
        "arr = np.array([1, 2, 3, 4, 5])\n",
        "\n",
        "print(\"Array:\", arr)\n",
        "print(\"Mean:\", np.mean(arr))\n",
        "print(\"Standard Deviation:\", np.std(arr))\n",
        "print(\"Reshape:\", arr.reshape(5, 1))\n",
        "\n",
        ""
      ]
    },
    {
      "cell_type": "markdown",
      "source": [
        "#Pandas Basics\n"
      ],
      "metadata": {
        "id": "49aP2CkJ5H_c"
      }
    },
    {
      "cell_type": "code",
      "source": [
        "import pandas as pd\n",
        "\n",
        "# Create DataFrame\n",
        "data = {\"Name\": [\"Asha\", \"Ravi\", \"Meena\"],\n",
        "        \"Age\": [20, 22, 19],\n",
        "        \"Marks\": [85, 90, 88]}\n",
        "df = pd.DataFrame(data)\n",
        "\n",
        "print(df)\n",
        "print(\"Average Marks:\", df[\"Marks\"].mean())\n"
      ],
      "metadata": {
        "colab": {
          "base_uri": "https://localhost:8080/"
        },
        "id": "cyE6Rw8GxmVL",
        "outputId": "85c1d8d8-6bab-4c43-ddab-85eb8dc0a803"
      },
      "execution_count": 2,
      "outputs": [
        {
          "output_type": "stream",
          "name": "stdout",
          "text": [
            "    Name  Age  Marks\n",
            "0   Asha   20     85\n",
            "1   Ravi   22     90\n",
            "2  Meena   19     88\n",
            "Average Marks: 87.66666666666667\n"
          ]
        }
      ]
    },
    {
      "cell_type": "markdown",
      "source": [
        "# Data Loading\n"
      ],
      "metadata": {
        "id": "uCrRX4ny5XP_"
      }
    },
    {
      "cell_type": "code",
      "source": [
        "import pandas as pd\n",
        "\n",
        "# Create sample data\n",
        "data = {\n",
        "    \"Name\": [\"Alice\", \"Bob\", \"Charlie\", \"David\", \"Eve\"],\n",
        "    \"Age\": [25, None, 30, None, 22],\n",
        "    \"Salary\": [50000, 60000, None, 45000, None]\n",
        "}\n",
        "\n",
        "# Convert to DataFrame\n",
        "df = pd.DataFrame(data)\n",
        "\n",
        "# Save to CSV\n",
        "df.to_csv(\"sample.csv\", index=False)\n",
        "print(\"✅ sample.csv created!\")\n"
      ],
      "metadata": {
        "colab": {
          "base_uri": "https://localhost:8080/"
        },
        "id": "GydWi7yl1suO",
        "outputId": "decaf752-d963-4502-e047-05185a9626f3"
      },
      "execution_count": 12,
      "outputs": [
        {
          "output_type": "stream",
          "name": "stdout",
          "text": [
            "✅ sample.csv created!\n"
          ]
        }
      ]
    },
    {
      "cell_type": "code",
      "source": [
        "import pandas as pd\n",
        "\n",
        "# Read CSV (example data)\n",
        "df = pd.read_csv(\"sample.csv\")   # Make a sample.csv before running\n",
        "print(df.head())   # Show first 5 rows\n"
      ],
      "metadata": {
        "colab": {
          "base_uri": "https://localhost:8080/"
        },
        "id": "4WtNMYNmxmYC",
        "outputId": "aa1163d9-3d22-46ee-c4c0-25a902dd7a36"
      },
      "execution_count": 13,
      "outputs": [
        {
          "output_type": "stream",
          "name": "stdout",
          "text": [
            "      Name   Age   Salary\n",
            "0    Alice  25.0  50000.0\n",
            "1      Bob   NaN  60000.0\n",
            "2  Charlie  30.0      NaN\n",
            "3    David   NaN  45000.0\n",
            "4      Eve  22.0      NaN\n"
          ]
        }
      ]
    },
    {
      "cell_type": "markdown",
      "source": [
        "#Data Wrangling (Cleaning / Filtering)\n"
      ],
      "metadata": {
        "id": "TAr5sVmA5ijJ"
      }
    },
    {
      "cell_type": "code",
      "source": [
        "import pandas as pd\n",
        "\n",
        "data = {\"Name\": [\"Asha\", \"Ravi\", None],\n",
        "        \"Age\": [20, None, 19],\n",
        "        \"Marks\": [85, 90, 88]}\n",
        "df = pd.DataFrame(data)\n",
        "\n",
        "print(\"Original:\\n\", df)\n",
        "\n",
        "# Fill missing values\n",
        "#df[\"Age\"].fillna(df[\"Age\"].mean(), inplace=True)\n",
        "df.fillna({\"Age\": df[\"Age\"].mean()}, inplace=True)\n",
        "\n",
        "# Drop rows with missing Name\n",
        "df.dropna(subset=[\"Name\"], inplace=True)\n",
        "\n",
        "print(\"\\nCleaned:\\n\", df)\n"
      ],
      "metadata": {
        "colab": {
          "base_uri": "https://localhost:8080/"
        },
        "id": "0CAAgUMnxmbQ",
        "outputId": "221bc6e3-78f8-4e81-bdc7-b2a078124b3f"
      },
      "execution_count": 7,
      "outputs": [
        {
          "output_type": "stream",
          "name": "stdout",
          "text": [
            "Original:\n",
            "    Name   Age  Marks\n",
            "0  Asha  20.0     85\n",
            "1  Ravi   NaN     90\n",
            "2  None  19.0     88\n",
            "\n",
            "Cleaned:\n",
            "    Name   Age  Marks\n",
            "0  Asha  20.0     85\n",
            "1  Ravi  19.5     90\n"
          ]
        }
      ]
    },
    {
      "cell_type": "markdown",
      "source": [
        "#Plotting and Visualization\n"
      ],
      "metadata": {
        "id": "s-jUxsyJ5lb3"
      }
    },
    {
      "cell_type": "code",
      "source": [
        "import pandas as pd\n",
        "import matplotlib.pyplot as plt\n",
        "\n",
        "data = {\"Subject\": [\"Math\", \"Science\", \"English\"],\n",
        "        \"Marks\": [85, 90, 78]}\n",
        "df = pd.DataFrame(data)\n",
        "\n",
        "df.plot(x=\"Subject\", y=\"Marks\", kind=\"bar\", legend=False)\n",
        "plt.title(\"Marks by Subject\")\n",
        "plt.show()\n"
      ],
      "metadata": {
        "colab": {
          "base_uri": "https://localhost:8080/",
          "height": 511
        },
        "id": "XVqmRqy60Pwb",
        "outputId": "64d608f1-b216-4087-9b35-a858b1a02144"
      },
      "execution_count": 8,
      "outputs": [
        {
          "output_type": "display_data",
          "data": {
            "text/plain": [
              "<Figure size 640x480 with 1 Axes>"
            ],
            "image/png": "[encoded data removed]"
          },
          "metadata": {}
        }
      ]
    },
    {
      "cell_type": "markdown",
      "source": [
        "#Data Aggregation and Group Operations\n"
      ],
      "metadata": {
        "id": "W8lSzls05tst"
      }
    },
    {
      "cell_type": "code",
      "source": [
        "import pandas as pd\n",
        "\n",
        "data = {\"Class\": [\"A\", \"A\", \"B\", \"B\"],\n",
        "        \"Marks\": [80, 90, 70, 85]}\n",
        "df = pd.DataFrame(data)\n",
        "\n",
        "# Group by Class and get mean\n",
        "grouped = df.groupby(\"Class\")[\"Marks\"].mean()\n",
        "print(grouped)\n"
      ],
      "metadata": {
        "colab": {
          "base_uri": "https://localhost:8080/"
        },
        "id": "NsFW54Z30YHv",
        "outputId": "77460912-8be2-4c68-d702-487a71d7af55"
      },
      "execution_count": 9,
      "outputs": [
        {
          "output_type": "stream",
          "name": "stdout",
          "text": [
            "Class\n",
            "A    85.0\n",
            "B    77.5\n",
            "Name: Marks, dtype: float64\n"
          ]
        }
      ]
    },
    {
      "cell_type": "markdown",
      "source": [
        "#Data Exploration\n",
        "  "
      ],
      "metadata": {
        "id": "2rUwt37N5xfY"
      }
    },
    {
      "cell_type": "code",
      "source": [
        "import pandas as pd\n",
        "\n",
        "data = {\"Age\": [20, 22, 19, 21, 20],\n",
        "        \"Marks\": [85, 90, 78, 88, 92]}\n",
        "df = pd.DataFrame(data)\n",
        "\n",
        "print(df.describe())  # Summary statistics\n",
        "print(\"Correlation:\\n\", df.corr())\n"
      ],
      "metadata": {
        "colab": {
          "base_uri": "https://localhost:8080/"
        },
        "id": "WA5Jwm6w0eg9",
        "outputId": "3bd5af1e-2ecd-4570-e3f8-ad70fec44fca"
      },
      "execution_count": 10,
      "outputs": [
        {
          "output_type": "stream",
          "name": "stdout",
          "text": [
            "             Age      Marks\n",
            "count   5.000000   5.000000\n",
            "mean   20.400000  86.600000\n",
            "std     1.140175   5.458938\n",
            "min    19.000000  78.000000\n",
            "25%    20.000000  85.000000\n",
            "50%    20.000000  88.000000\n",
            "75%    21.000000  90.000000\n",
            "max    22.000000  92.000000\n",
            "Correlation:\n",
            "             Age     Marks\n",
            "Age    1.000000  0.674791\n",
            "Marks  0.674791  1.000000\n"
          ]
        }
      ]
    },
    {
      "cell_type": "markdown",
      "source": [
        "#Visualization using Python\n"
      ],
      "metadata": {
        "id": "zMlnaIsC56BA"
      }
    },
    {
      "cell_type": "code",
      "source": [
        "import matplotlib.pyplot as plt\n",
        "\n",
        "marks = [85, 90, 78, 88, 92]\n",
        "students = [\"A\", \"B\", \"C\", \"D\", \"E\"]\n",
        "\n",
        "plt.plot(students, marks, marker=\"o\")\n",
        "plt.title(\"Student Marks\")\n",
        "plt.xlabel(\"Students\")\n",
        "plt.ylabel(\"Marks\")\n",
        "plt.show()\n"
      ],
      "metadata": {
        "colab": {
          "base_uri": "https://localhost:8080/",
          "height": 472
        },
        "id": "Xx0POTTR0pL4",
        "outputId": "143f0420-8470-4354-de00-89617b1d32e0"
      },
      "execution_count": 11,
      "outputs": [
        {
          "output_type": "display_data",
          "data": {
            "text/plain": [
              "<Figure size 640x480 with 1 Axes>"
            ],
            "image/png": "[encoded data removed]"
          },
          "metadata": {}
        }
      ]
    }
  ]
}