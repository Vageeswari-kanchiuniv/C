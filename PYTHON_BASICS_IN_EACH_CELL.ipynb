{
  "nbformat": 4,
  "nbformat_minor": 0,
  "metadata": {
    "colab": {
      "provenance": [],
      "authorship_tag": "ABX9TyMFnZx/AMFg0C2J1l1H+Ocf",
      "include_colab_link": true
    },
    "kernelspec": {
      "name": "python3",
      "display_name": "Python 3"
    },
    "language_info": {
      "name": "python"
    }
  },
  "cells": [
    {
      "cell_type": "markdown",
      "metadata": {
        "id": "view-in-github",
        "colab_type": "text"
      },
      "source": [
        "<a href=\"https://colab.research.google.com/github/Vageeswari-kanchiuniv/C/blob/main/PYTHON_BASICS_IN_EACH_CELL.ipynb\" target=\"_parent\"><img src=\"https://colab.research.google.com/assets/colab-badge.svg\" alt=\"Open In Colab\"/></a>"
      ]
    },
    {
      "cell_type": "code",
      "execution_count": 1,
      "metadata": {
        "colab": {
          "base_uri": "https://localhost:8080/"
        },
        "id": "bHLsipSZUbvo",
        "outputId": "9e2a7d68-c416-4752-9563-b78b5af14ebd"
      },
      "outputs": [
        {
          "output_type": "stream",
          "name": "stdout",
          "text": [
            "Welcome to Python Basics 🚀\n"
          ]
        }
      ],
      "source": [
        "# PYTBASICS - Python Basics in Colab Notebook\n",
        "# ===========================================\n",
        "\n",
        "# 1. INTRODUCTION\n",
        "print(\"Welcome to Python Basics 🚀\")\n",
        "\n",
        "# -------------------------------------------\n"
      ]
    },
    {
      "cell_type": "code",
      "source": [
        "# 2. VARIABLES & DATA TYPES\n",
        "x = 10\n",
        "y = 3.14\n",
        "name = \"Alice\"\n",
        "is_ok = True\n",
        "\n",
        "print(\"Integer:\", x)\n",
        "print(\"Float:\", y)\n",
        "print(\"String:\", name)\n",
        "print(\"Boolean:\", is_ok)\n",
        "\n"
      ],
      "metadata": {
        "colab": {
          "base_uri": "https://localhost:8080/"
        },
        "id": "M5URchb1j4W6",
        "outputId": "7f9463b5-2bae-44b9-d206-b10e5b33d903"
      },
      "execution_count": 2,
      "outputs": [
        {
          "output_type": "stream",
          "name": "stdout",
          "text": [
            "Integer: 10\n",
            "Float: 3.14\n",
            "String: Alice\n",
            "Boolean: True\n"
          ]
        }
      ]
    },
    {
      "cell_type": "code",
      "source": [
        "# -------------------------------------------\n",
        "# 3. INPUT & OUTPUT\n",
        "# Uncomment to test input in Colab\n",
        "# user_name = input(\"Enter your name: \")\n",
        "# print(\"Hello,\", user_name)\n",
        "\n",
        "# -------------------------------------------\n",
        "# 4. OPERATORS\n",
        "a, b = 15, 4\n",
        "print(\"a + b =\", a + b)\n",
        "print(\"a - b =\", a - b)\n",
        "print(\"a * b =\", a * b)\n",
        "print(\"a / b =\", a / b)\n",
        "print(\"a // b =\", a // b)\n",
        "print(\"a % b =\", a % b)\n",
        "print(\"a ** b =\", a ** b)\n",
        "\n",
        "# -------------------------------------------\n"
      ],
      "metadata": {
        "colab": {
          "base_uri": "https://localhost:8080/"
        },
        "id": "tV0YxsOoj8sg",
        "outputId": "25e5d2ad-3977-476c-f45b-db8208ebb604"
      },
      "execution_count": 3,
      "outputs": [
        {
          "output_type": "stream",
          "name": "stdout",
          "text": [
            "a + b = 19\n",
            "a - b = 11\n",
            "a * b = 60\n",
            "a / b = 3.75\n",
            "a // b = 3\n",
            "a % b = 3\n",
            "a ** b = 50625\n"
          ]
        }
      ]
    },
    {
      "cell_type": "code",
      "source": [
        "# 5. CONTROL FLOW\n",
        "age = 20\n",
        "if age >= 18:\n",
        "    print(\"You are an adult.\")\n",
        "elif age > 12:\n",
        "    print(\"You are a teenager.\")\n",
        "else:\n",
        "    print(\"You are a child.\")\n",
        "\n",
        "# For Loop\n",
        "for i in range(5):\n",
        "    print(\"For Loop:\", i)\n",
        "\n",
        "# While Loop\n",
        "n = 3\n",
        "while n > 0:\n",
        "    print(\"While Loop:\", n)\n",
        "    n -= 1\n",
        "\n",
        "# -------------------------------------------\n"
      ],
      "metadata": {
        "colab": {
          "base_uri": "https://localhost:8080/"
        },
        "id": "zVmdRpQoj8wA",
        "outputId": "598a1a74-b56a-490c-c7e1-84032abe4835"
      },
      "execution_count": 4,
      "outputs": [
        {
          "output_type": "stream",
          "name": "stdout",
          "text": [
            "You are an adult.\n",
            "For Loop: 0\n",
            "For Loop: 1\n",
            "For Loop: 2\n",
            "For Loop: 3\n",
            "For Loop: 4\n",
            "While Loop: 3\n",
            "While Loop: 2\n",
            "While Loop: 1\n"
          ]
        }
      ]
    },
    {
      "cell_type": "code",
      "source": [
        "# 6. FUNCTIONS\n",
        "def greet(name):\n",
        "    return \"Hello \" + name\n",
        "\n",
        "print(greet(\"Bob\"))\n",
        "\n",
        "# -------------------------------------------\n"
      ],
      "metadata": {
        "colab": {
          "base_uri": "https://localhost:8080/"
        },
        "id": "MJKvpsSXj8yw",
        "outputId": "8a61da43-1e59-4fec-a76c-82ed7512adb2"
      },
      "execution_count": 5,
      "outputs": [
        {
          "output_type": "stream",
          "name": "stdout",
          "text": [
            "Hello Bob\n"
          ]
        }
      ]
    },
    {
      "cell_type": "code",
      "source": [
        "# 7. DATA STRUCTURES\n",
        "# List\n",
        "fruits = [\"apple\", \"banana\", \"cherry\"]\n",
        "print(\"List:\", fruits)\n",
        "\n",
        "# Tuple\n",
        "point = (10, 20)\n",
        "print(\"Tuple:\", point)\n",
        "\n",
        "# Set\n",
        "nums = {1, 2, 3, 2}\n",
        "print(\"Set:\", nums)\n",
        "\n",
        "# Dictionary\n",
        "student = {\"name\": \"John\", \"age\": 20}\n",
        "print(\"Dictionary:\", student)\n",
        "\n",
        "# -------------------------------------------\n"
      ],
      "metadata": {
        "colab": {
          "base_uri": "https://localhost:8080/"
        },
        "id": "xjNSsf7jj81I",
        "outputId": "ac97955f-8de8-4981-cd75-18ec6aa3a9df"
      },
      "execution_count": 6,
      "outputs": [
        {
          "output_type": "stream",
          "name": "stdout",
          "text": [
            "List: ['apple', 'banana', 'cherry']\n",
            "Tuple: (10, 20)\n",
            "Set: {1, 2, 3}\n",
            "Dictionary: {'name': 'John', 'age': 20}\n"
          ]
        }
      ]
    },
    {
      "cell_type": "code",
      "source": [
        "# 8. MODULES & PACKAGES\n",
        "import math\n",
        "print(\"Square root of 16:\", math.sqrt(16))\n",
        "\n",
        "# -------------------------------------------\n"
      ],
      "metadata": {
        "colab": {
          "base_uri": "https://localhost:8080/"
        },
        "id": "8PUnU0nZkHeZ",
        "outputId": "1d172f8b-d5a6-4143-8e59-a966d7d6bdfc"
      },
      "execution_count": 7,
      "outputs": [
        {
          "output_type": "stream",
          "name": "stdout",
          "text": [
            "Square root of 16: 4.0\n"
          ]
        }
      ]
    },
    {
      "cell_type": "code",
      "source": [
        "# 9. FILE HANDLING\n",
        "with open(\"sample.txt\", \"w\") as f:\n",
        "    f.write(\"Hello, Python!\")\n",
        "\n",
        "with open(\"sample.txt\", \"r\") as f:\n",
        "    print(\"File Content:\", f.read())\n",
        "\n",
        "# -------------------------------------------\n"
      ],
      "metadata": {
        "colab": {
          "base_uri": "https://localhost:8080/"
        },
        "id": "EVz1D-t-kHhR",
        "outputId": "dd748a61-f453-4d5a-f7fe-d0e0415b08a6"
      },
      "execution_count": 8,
      "outputs": [
        {
          "output_type": "stream",
          "name": "stdout",
          "text": [
            "File Content: Hello, Python!\n"
          ]
        }
      ]
    },
    {
      "cell_type": "code",
      "source": [
        "# 10. EXCEPTION HANDLING\n",
        "try:\n",
        "    result = 10 / 0\n",
        "except ZeroDivisionError:\n",
        "    print(\"Error: Cannot divide by zero ❌\")\n",
        "finally:\n",
        "    print(\"This block always runs ✅\")\n"
      ],
      "metadata": {
        "colab": {
          "base_uri": "https://localhost:8080/"
        },
        "id": "gaZAXvWEkHmR",
        "outputId": "d02b5b34-cb2e-4cff-850d-ddb6937ff98f"
      },
      "execution_count": 9,
      "outputs": [
        {
          "output_type": "stream",
          "name": "stdout",
          "text": [
            "Error: Cannot divide by zero ❌\n",
            "This block always runs ✅\n"
          ]
        }
      ]
    }
  ]
}