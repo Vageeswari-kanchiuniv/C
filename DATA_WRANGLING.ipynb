{
  "nbformat": 4,
  "nbformat_minor": 0,
  "metadata": {
    "colab": {
      "provenance": [],
      "authorship_tag": "ABX9TyMqAmlyoMLvsYaf2m3QDdnw",
      "include_colab_link": true
    },
    "kernelspec": {
      "name": "python3",
      "display_name": "Python 3"
    },
    "language_info": {
      "name": "python"
    }
  },
  "cells": [
    {
      "cell_type": "markdown",
      "metadata": {
        "id": "view-in-github",
        "colab_type": "text"
      },
      "source": [
        "<a href=\"https://colab.research.google.com/github/Vageeswari-kanchiuniv/C/blob/main/DATA_WRANGLING.ipynb\" target=\"_parent\"><img src=\"https://colab.research.google.com/assets/colab-badge.svg\" alt=\"Open In Colab\"/></a>"
      ]
    },
    {
      "cell_type": "markdown",
      "source": [
        "## **DATA WRANGLING  **"
      ],
      "metadata": {
        "id": "mW9HAm6vja6w"
      }
    },
    {
      "cell_type": "code",
      "source": [
        "import pandas as pd\n",
        "import numpy as np"
      ],
      "metadata": {
        "id": "MxV4cCzqjyOL"
      },
      "execution_count": 1,
      "outputs": []
    },
    {
      "cell_type": "markdown",
      "source": [
        "**Data Creation**"
      ],
      "metadata": {
        "id": "HMgZwV9Zjzkx"
      }
    },
    {
      "cell_type": "code",
      "execution_count": 2,
      "metadata": {
        "colab": {
          "base_uri": "https://localhost:8080/"
        },
        "id": "0VON6QBajSWz",
        "outputId": "aaa7b00c-cfc7-4bda-823a-d88332617f64"
      },
      "outputs": [
        {
          "output_type": "stream",
          "name": "stdout",
          "text": [
            "🔹 Original Data:\n",
            "   ID     Name Gender   Age Department  Salary\n",
            "0   1    Alice      F  25.0         HR   50000\n",
            "1   2      Bob      M   NaN         IT   60000\n",
            "2   3  Charlie      M  35.0    Finance   70000\n",
            "3   4     None      F  28.0         IT   65000\n",
            "4   5      Eve      F  22.0         HR   48000\n",
            "5   6    Frank   None  30.0    Finance   72000\n"
          ]
        }
      ],
      "source": [
        "\n",
        "\n",
        "\n",
        "data = {\n",
        "    'ID': [1, 2, 3, 4, 5, 6],\n",
        "    'Name': ['Alice', 'Bob', 'Charlie', None, 'Eve', 'Frank'],\n",
        "    'Gender': ['F', 'M', 'M', 'F', 'F', None],\n",
        "    'Age': [25, np.nan, 35, 28, 22, 30],\n",
        "    'Department': ['HR', 'IT', 'Finance', 'IT', 'HR', 'Finance'],\n",
        "    'Salary': [50000, 60000, 70000, 65000, 48000, 72000]\n",
        "}\n",
        "\n",
        "df = pd.DataFrame(data)\n",
        "print(\"🔹 Original Data:\")\n",
        "print(df)\n",
        "\n"
      ]
    },
    {
      "cell_type": "markdown",
      "source": [
        "Data Cleaning"
      ],
      "metadata": {
        "id": "g6g-mVIXjuKR"
      }
    },
    {
      "cell_type": "code",
      "source": [
        "\n",
        "# Handling missing values\n",
        "df['Name'] = df['Name'].fillna('Unknown')\n",
        "df['Gender'] = df['Gender'].fillna('Other')\n",
        "df['Age'] = df['Age'].fillna(df['Age'].mean())\n",
        "\n",
        "\n",
        "# Changing data types\n",
        "df['Age'] = df['Age'].astype(int)\n",
        "\n",
        "# Renaming columns\n",
        "df.rename(columns={'Salary': 'Monthly_Salary'}, inplace=True)\n",
        "print(df)"
      ],
      "metadata": {
        "colab": {
          "base_uri": "https://localhost:8080/"
        },
        "id": "OfpgCe87joNK",
        "outputId": "aa97f2f6-8af1-4743-bd47-83ea39f20705"
      },
      "execution_count": 5,
      "outputs": [
        {
          "output_type": "stream",
          "name": "stdout",
          "text": [
            "   ID     Name Gender  Age Department  Monthly_Salary\n",
            "0   1    Alice      F   25         HR           50000\n",
            "1   2      Bob      M   28         IT           60000\n",
            "2   3  Charlie      M   35    Finance           70000\n",
            "3   4  Unknown      F   28         IT           65000\n",
            "4   5      Eve      F   22         HR           48000\n",
            "5   6    Frank  Other   30    Finance           72000\n"
          ]
        }
      ]
    },
    {
      "cell_type": "markdown",
      "source": [
        "Transformation"
      ],
      "metadata": {
        "id": "bBCjWaFvk_Yu"
      }
    },
    {
      "cell_type": "code",
      "source": [
        "# Mapping values\n",
        "df['Gender_Full'] = df['Gender'].map({'M': 'Male', 'F': 'Female', 'Other': 'Other'})\n",
        "\n",
        "# Applying custom function\n",
        "df['Age_Group'] = df['Age'].apply(lambda x: 'Senior' if x >= 30 else 'Junior')\n",
        "\n",
        "# Replacing values\n",
        "df['Department'] = df['Department'].replace({'HR': 'Human Resources'})\n",
        "print(df)"
      ],
      "metadata": {
        "colab": {
          "base_uri": "https://localhost:8080/"
        },
        "id": "rsGmpCIJjobg",
        "outputId": "4b2c4c4f-477b-4039-880f-93ceb9b4f853"
      },
      "execution_count": 7,
      "outputs": [
        {
          "output_type": "stream",
          "name": "stdout",
          "text": [
            "   ID     Name Gender  Age       Department  Monthly_Salary Gender_Full  \\\n",
            "0   1    Alice      F   25  Human Resources           50000      Female   \n",
            "1   2      Bob      M   28               IT           60000        Male   \n",
            "2   3  Charlie      M   35          Finance           70000        Male   \n",
            "3   4  Unknown      F   28               IT           65000      Female   \n",
            "4   5      Eve      F   22  Human Resources           48000      Female   \n",
            "5   6    Frank  Other   30          Finance           72000       Other   \n",
            "\n",
            "  Age_Group  \n",
            "0    Junior  \n",
            "1    Junior  \n",
            "2    Senior  \n",
            "3    Junior  \n",
            "4    Junior  \n",
            "5    Senior  \n"
          ]
        }
      ]
    },
    {
      "cell_type": "markdown",
      "source": [
        "\n",
        "Aggregation\n"
      ],
      "metadata": {
        "id": "R5JJq9cylPYq"
      }
    },
    {
      "cell_type": "code",
      "source": [
        "grouped_salary = df.groupby('Department')['Monthly_Salary'].mean()\n",
        "print(\"\\n🔹 Average Salary by Department:\")\n",
        "print(grouped_salary)\n",
        "\n",
        "# Pivot table\n",
        "pivot = pd.pivot_table(df, values='Monthly_Salary', index='Department', columns='Gender_Full', aggfunc='mean')\n",
        "print(\"\\n🔹 Pivot Table (Avg Salary):\")\n",
        "print(pivot)\n"
      ],
      "metadata": {
        "colab": {
          "base_uri": "https://localhost:8080/"
        },
        "id": "luyNt4RRjokC",
        "outputId": "d0d4f56c-a2f3-4562-afa4-26c7f4b9b6e0"
      },
      "execution_count": 8,
      "outputs": [
        {
          "output_type": "stream",
          "name": "stdout",
          "text": [
            "\n",
            "🔹 Average Salary by Department:\n",
            "Department\n",
            "Finance            71000.0\n",
            "Human Resources    49000.0\n",
            "IT                 62500.0\n",
            "Name: Monthly_Salary, dtype: float64\n",
            "\n",
            "🔹 Pivot Table (Avg Salary):\n",
            "Gender_Full       Female     Male    Other\n",
            "Department                                \n",
            "Finance              NaN  70000.0  72000.0\n",
            "Human Resources  49000.0      NaN      NaN\n",
            "IT               65000.0  60000.0      NaN\n"
          ]
        }
      ]
    },
    {
      "cell_type": "markdown",
      "source": [
        "Filtering and Selection"
      ],
      "metadata": {
        "id": "Q6ECQ4OelsV8"
      }
    },
    {
      "cell_type": "code",
      "source": [
        "\n",
        "\n",
        "# Conditional filtering\n",
        "high_earners = df[df['Monthly_Salary'] > 60000]\n",
        "print(\"\\n🔹 High Earners:\")\n",
        "print(high_earners)\n",
        "\n",
        "# Using query\n",
        "it_staff = df.query('Department == \"IT\"')\n",
        "print(\"\\n🔹 IT Department Staff:\")\n",
        "print(it_staff)\n"
      ],
      "metadata": {
        "colab": {
          "base_uri": "https://localhost:8080/"
        },
        "id": "qFE0p7qhjon2",
        "outputId": "3c2ad933-8f42-4aca-cbe0-056c8f890487"
      },
      "execution_count": 9,
      "outputs": [
        {
          "output_type": "stream",
          "name": "stdout",
          "text": [
            "\n",
            "🔹 High Earners:\n",
            "   ID     Name Gender  Age Department  Monthly_Salary Gender_Full Age_Group\n",
            "2   3  Charlie      M   35    Finance           70000        Male    Senior\n",
            "3   4  Unknown      F   28         IT           65000      Female    Junior\n",
            "5   6    Frank  Other   30    Finance           72000       Other    Senior\n",
            "\n",
            "🔹 IT Department Staff:\n",
            "   ID     Name Gender  Age Department  Monthly_Salary Gender_Full Age_Group\n",
            "1   2      Bob      M   28         IT           60000        Male    Junior\n",
            "3   4  Unknown      F   28         IT           65000      Female    Junior\n"
          ]
        }
      ]
    },
    {
      "cell_type": "markdown",
      "source": [
        "Reshaping"
      ],
      "metadata": {
        "id": "oPtXYMaCl3uy"
      }
    },
    {
      "cell_type": "code",
      "source": [
        "# Melting\n",
        "melted = pd.melt(df, id_vars=['ID', 'Name'], value_vars=['Age', 'Monthly_Salary'])\n",
        "print(\"\\n🔹 Melted Data:\")\n",
        "print(melted.head())\n",
        "\n",
        "# Stack/Unstack (on a small sample)\n",
        "stacked = df[['Department', 'Monthly_Salary']].head(3).stack()\n",
        "print(\"\\n🔹 Stacked Sample:\")\n",
        "print(stacked)\n"
      ],
      "metadata": {
        "colab": {
          "base_uri": "https://localhost:8080/"
        },
        "id": "9chFe-vil4pS",
        "outputId": "e5b5369a-63e8-4c95-e8b5-df2f9ee9c274"
      },
      "execution_count": 10,
      "outputs": [
        {
          "output_type": "stream",
          "name": "stdout",
          "text": [
            "\n",
            "🔹 Melted Data:\n",
            "   ID     Name variable  value\n",
            "0   1    Alice      Age     25\n",
            "1   2      Bob      Age     28\n",
            "2   3  Charlie      Age     35\n",
            "3   4  Unknown      Age     28\n",
            "4   5      Eve      Age     22\n",
            "\n",
            "🔹 Stacked Sample:\n",
            "0  Department        Human Resources\n",
            "   Monthly_Salary              50000\n",
            "1  Department                     IT\n",
            "   Monthly_Salary              60000\n",
            "2  Department                Finance\n",
            "   Monthly_Salary              70000\n",
            "dtype: object\n"
          ]
        }
      ]
    },
    {
      "cell_type": "markdown",
      "source": [
        "Merging and Joining"
      ],
      "metadata": {
        "id": "C57B573UmnZa"
      }
    },
    {
      "cell_type": "code",
      "source": [
        "# Create another DataFrame for merging\n",
        "bonus_df = pd.DataFrame({\n",
        "    'ID': [1, 2, 3, 4, 5, 6],\n",
        "    'Bonus': [2000, 2500, 3000, 2800, 2200, 3200]\n",
        "})\n",
        "\n",
        "# Merge\n",
        "merged_df = pd.merge(df, bonus_df, on='ID', how='inner')\n",
        "print(\"\\n🔹 Merged Data with Bonus:\")\n",
        "print(merged_df)\n"
      ],
      "metadata": {
        "colab": {
          "base_uri": "https://localhost:8080/"
        },
        "id": "o0sQE6ZLl40b",
        "outputId": "997cfed8-dae2-4e70-a9f7-2eeab4704738"
      },
      "execution_count": 11,
      "outputs": [
        {
          "output_type": "stream",
          "name": "stdout",
          "text": [
            "\n",
            "🔹 Merged Data with Bonus:\n",
            "   ID     Name Gender  Age       Department  Monthly_Salary Gender_Full  \\\n",
            "0   1    Alice      F   25  Human Resources           50000      Female   \n",
            "1   2      Bob      M   28               IT           60000        Male   \n",
            "2   3  Charlie      M   35          Finance           70000        Male   \n",
            "3   4  Unknown      F   28               IT           65000      Female   \n",
            "4   5      Eve      F   22  Human Resources           48000      Female   \n",
            "5   6    Frank  Other   30          Finance           72000       Other   \n",
            "\n",
            "  Age_Group  Bonus  \n",
            "0    Junior   2000  \n",
            "1    Junior   2500  \n",
            "2    Senior   3000  \n",
            "3    Junior   2800  \n",
            "4    Junior   2200  \n",
            "5    Senior   3200  \n"
          ]
        }
      ]
    },
    {
      "cell_type": "markdown",
      "source": [
        "Sorting and Duplicates"
      ],
      "metadata": {
        "id": "Pr6TS4Apm2LQ"
      }
    },
    {
      "cell_type": "code",
      "source": [
        "# ------------------------\n",
        "\n",
        "# Adding a duplicate for demo\n",
        "\n",
        "\n",
        "df_with_dup = pd.concat([df, df.iloc[[0]]], ignore_index=True)\n",
        "\n",
        "\n",
        "# Remove duplicates\n",
        "df_no_dup = df_with_dup.drop_duplicates()\n",
        "\n",
        "# Sort\n",
        "sorted_df = df.sort_values(by='Monthly_Salary', ascending=False)\n",
        "print(\"\\n🔹 Sorted by Salary (Descending):\")\n",
        "print(sorted_df)\n"
      ],
      "metadata": {
        "colab": {
          "base_uri": "https://localhost:8080/"
        },
        "id": "XR7I0D_Dl43N",
        "outputId": "7bbb151e-0806-4df9-d693-b851542d8d9e"
      },
      "execution_count": 13,
      "outputs": [
        {
          "output_type": "stream",
          "name": "stdout",
          "text": [
            "\n",
            "🔹 Sorted by Salary (Descending):\n",
            "   ID     Name Gender  Age       Department  Monthly_Salary Gender_Full  \\\n",
            "5   6    Frank  Other   30          Finance           72000       Other   \n",
            "2   3  Charlie      M   35          Finance           70000        Male   \n",
            "3   4  Unknown      F   28               IT           65000      Female   \n",
            "1   2      Bob      M   28               IT           60000        Male   \n",
            "0   1    Alice      F   25  Human Resources           50000      Female   \n",
            "4   5      Eve      F   22  Human Resources           48000      Female   \n",
            "\n",
            "  Age_Group  \n",
            "5    Senior  \n",
            "2    Senior  \n",
            "3    Junior  \n",
            "1    Junior  \n",
            "0    Junior  \n",
            "4    Junior  \n"
          ]
        }
      ]
    },
    {
      "cell_type": "markdown",
      "source": [
        "Export to CSV"
      ],
      "metadata": {
        "id": "7yClPqjyn3Wx"
      }
    },
    {
      "cell_type": "code",
      "source": [
        "df.to_csv('cleaned_employee_data.csv', index=False)\n",
        "print(\"\\n✅ Cleaned data exported to 'cleaned_employee_data.csv'\")\n",
        "\n"
      ],
      "metadata": {
        "colab": {
          "base_uri": "https://localhost:8080/"
        },
        "id": "dVmQCEqIl46D",
        "outputId": "25a0016d-76c7-4344-e0c9-6ec9ea748054"
      },
      "execution_count": 14,
      "outputs": [
        {
          "output_type": "stream",
          "name": "stdout",
          "text": [
            "\n",
            "✅ Cleaned data exported to 'cleaned_employee_data.csv'\n"
          ]
        }
      ]
    }
  ]
}